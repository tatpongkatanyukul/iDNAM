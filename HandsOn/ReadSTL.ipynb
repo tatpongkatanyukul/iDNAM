{
  "nbformat": 4,
  "nbformat_minor": 0,
  "metadata": {
    "colab": {
      "provenance": []
    },
    "kernelspec": {
      "name": "python3",
      "display_name": "Python 3"
    },
    "language_info": {
      "name": "python"
    }
  },
  "cells": [
    {
      "cell_type": "code",
      "source": [
        "!pip install numpy-stl"
      ],
      "metadata": {
        "colab": {
          "base_uri": "https://localhost:8080/"
        },
        "id": "lVSYEAK4NCpx",
        "outputId": "34932a64-3b9e-443a-abdf-33d0218ff511"
      },
      "execution_count": null,
      "outputs": [
        {
          "output_type": "stream",
          "name": "stdout",
          "text": [
            "Looking in indexes: https://pypi.org/simple, https://us-python.pkg.dev/colab-wheels/public/simple/\n",
            "Collecting numpy-stl\n",
            "  Downloading numpy_stl-3.0.1-py3-none-any.whl (19 kB)\n",
            "Requirement already satisfied: numpy in /usr/local/lib/python3.9/dist-packages (from numpy-stl) (1.22.4)\n",
            "Requirement already satisfied: python-utils>=3.4.5 in /usr/local/lib/python3.9/dist-packages (from numpy-stl) (3.5.2)\n",
            "Installing collected packages: numpy-stl\n",
            "Successfully installed numpy-stl-3.0.1\n"
          ]
        }
      ]
    },
    {
      "cell_type": "code",
      "execution_count": null,
      "metadata": {
        "id": "qGH0C3NmMYSH"
      },
      "outputs": [],
      "source": [
        "import stl"
      ]
    },
    {
      "cell_type": "code",
      "source": [
        "dir(stl)"
      ],
      "metadata": {
        "colab": {
          "base_uri": "https://localhost:8080/"
        },
        "id": "_cZnx-5BNSvl",
        "outputId": "efb04adf-9e81-458e-bfd6-629af6148c70"
      },
      "execution_count": null,
      "outputs": [
        {
          "output_type": "execute_result",
          "data": {
            "text/plain": [
              "['BUFFER_SIZE',\n",
              " 'COUNT_SIZE',\n",
              " 'Dimension',\n",
              " 'HEADER_SIZE',\n",
              " 'MAX_COUNT',\n",
              " 'Mesh',\n",
              " 'Mode',\n",
              " 'RemoveDuplicates',\n",
              " '__about__',\n",
              " '__all__',\n",
              " '__builtins__',\n",
              " '__cached__',\n",
              " '__doc__',\n",
              " '__file__',\n",
              " '__loader__',\n",
              " '__name__',\n",
              " '__package__',\n",
              " '__path__',\n",
              " '__spec__',\n",
              " 'base',\n",
              " 'mesh',\n",
              " 'stl',\n",
              " 'utils']"
            ]
          },
          "metadata": {},
          "execution_count": 4
        }
      ]
    },
    {
      "cell_type": "code",
      "source": [
        "# https://pypi.org/project/numpy-stl/\n",
        "\n",
        "import numpy\n",
        "from stl import mesh\n",
        "\n",
        "# Using an existing stl file:\n",
        "# your_mesh = mesh.Mesh.from_file('some_file.stl')\n",
        "\n",
        "# Or creating a new mesh (make sure not to overwrite the `mesh` import by\n",
        "# naming it `mesh`):\n",
        "VERTICE_COUNT = 6\n",
        "data = numpy.zeros(VERTICE_COUNT, dtype=mesh.Mesh.dtype)\n",
        "your_mesh = mesh.Mesh(data, remove_empty_areas=False)\n",
        "\n",
        "# The mesh normals (calculated automatically)\n",
        "your_mesh.normals\n",
        "# The mesh vectors\n",
        "your_mesh.v0, your_mesh.v1, your_mesh.v2\n",
        "# Accessing individual points (concatenation of v0, v1 and v2 in triplets)\n",
        "assert (your_mesh.points[0][0:3] == your_mesh.v0[0]).all()\n",
        "assert (your_mesh.points[0][3:6] == your_mesh.v1[0]).all()\n",
        "assert (your_mesh.points[0][6:9] == your_mesh.v2[0]).all()\n",
        "assert (your_mesh.points[1][0:3] == your_mesh.v0[1]).all()\n",
        "\n",
        "your_mesh.save('new_stl_file.stl')\n"
      ],
      "metadata": {
        "id": "MJIy2svENcpV"
      },
      "execution_count": null,
      "outputs": []
    },
    {
      "cell_type": "code",
      "source": [
        "data"
      ],
      "metadata": {
        "colab": {
          "base_uri": "https://localhost:8080/"
        },
        "id": "-NIyX9ODPH4t",
        "outputId": "6e23d92f-7b8d-4f13-ddf1-0683f37b186f"
      },
      "execution_count": null,
      "outputs": [
        {
          "output_type": "execute_result",
          "data": {
            "text/plain": [
              "array([([0., 0., 0.], [[0., 0., 0.], [0., 0., 0.], [0., 0., 0.]], [0]),\n",
              "       ([0., 0., 0.], [[0., 0., 0.], [0., 0., 0.], [0., 0., 0.]], [0]),\n",
              "       ([0., 0., 0.], [[0., 0., 0.], [0., 0., 0.], [0., 0., 0.]], [0]),\n",
              "       ([0., 0., 0.], [[0., 0., 0.], [0., 0., 0.], [0., 0., 0.]], [0]),\n",
              "       ([0., 0., 0.], [[0., 0., 0.], [0., 0., 0.], [0., 0., 0.]], [0]),\n",
              "       ([0., 0., 0.], [[0., 0., 0.], [0., 0., 0.], [0., 0., 0.]], [0])],\n",
              "      dtype=[('normals', '<f4', (3,)), ('vectors', '<f4', (3, 3)), ('attr', '<u2', (1,))])"
            ]
          },
          "metadata": {},
          "execution_count": 16
        }
      ]
    },
    {
      "cell_type": "code",
      "source": [
        "data.shape"
      ],
      "metadata": {
        "colab": {
          "base_uri": "https://localhost:8080/"
        },
        "id": "o7nxKkRvPxbo",
        "outputId": "dc11d1ea-f143-4065-8e0b-352b7c74d2cf"
      },
      "execution_count": null,
      "outputs": [
        {
          "output_type": "execute_result",
          "data": {
            "text/plain": [
              "(6,)"
            ]
          },
          "metadata": {},
          "execution_count": 21
        }
      ]
    },
    {
      "cell_type": "code",
      "source": [
        "your_mesh.normals"
      ],
      "metadata": {
        "colab": {
          "base_uri": "https://localhost:8080/"
        },
        "id": "IEOn045JNxHt",
        "outputId": "6c343b4f-6fdc-4e9b-e094-4f7c4ca413a6"
      },
      "execution_count": null,
      "outputs": [
        {
          "output_type": "execute_result",
          "data": {
            "text/plain": [
              "array([[0., 0., 0.],\n",
              "       [0., 0., 0.],\n",
              "       [0., 0., 0.],\n",
              "       [0., 0., 0.],\n",
              "       [0., 0., 0.],\n",
              "       [0., 0., 0.]], dtype=float32)"
            ]
          },
          "metadata": {},
          "execution_count": 8
        }
      ]
    },
    {
      "cell_type": "code",
      "source": [
        "from stl import mesh\n",
        "from mpl_toolkits import mplot3d\n",
        "from matplotlib import pyplot\n",
        "\n",
        "# Create a new plot\n",
        "figure = pyplot.figure()\n",
        "axes = figure.add_subplot(projection='3d')\n",
        "\n",
        "# Load the STL files and add the vectors to the plot\n",
        "# your_mesh = mesh.Mesh.from_file('tests/stl_binary/HalfDonut.stl')\n",
        "axes.add_collection3d(mplot3d.art3d.Poly3DCollection(your_mesh.vectors))\n",
        "\n",
        "# Auto scale to the mesh size\n",
        "scale = your_mesh.points.flatten()\n",
        "axes.auto_scale_xyz(scale, scale, scale)\n",
        "\n",
        "# Show the plot to the screen\n",
        "pyplot.show()"
      ],
      "metadata": {
        "colab": {
          "base_uri": "https://localhost:8080/",
          "height": 255
        },
        "id": "-OylZ9_EN-LD",
        "outputId": "658507bc-a2d6-40f1-f60f-09d3284317f1"
      },
      "execution_count": null,
      "outputs": [
        {
          "output_type": "display_data",
          "data": {
            "text/plain": [
              "<Figure size 432x288 with 1 Axes>"
            ],
            "image/png": "[encoded data removed]"
          },
          "metadata": {
            "needs_background": "light"
          }
        }
      ]
    },
    {
      "cell_type": "markdown",
      "source": [
        "# My mesh"
      ],
      "metadata": {
        "id": "aMpdMseCP4G_"
      }
    },
    {
      "cell_type": "code",
      "source": [
        "import numpy as np"
      ],
      "metadata": {
        "id": "H0b3zwNEOwzr"
      },
      "execution_count": null,
      "outputs": []
    },
    {
      "cell_type": "code",
      "source": [
        "VERTICE_COUNT = 4\n",
        "dat2 = numpy.zeros(VERTICE_COUNT, dtype=mesh.Mesh.dtype)\n"
      ],
      "metadata": {
        "id": "EIDmFnK5P6bT"
      },
      "execution_count": null,
      "outputs": []
    },
    {
      "cell_type": "code",
      "source": [
        "dat2"
      ],
      "metadata": {
        "colab": {
          "base_uri": "https://localhost:8080/"
        },
        "id": "d9UIkUtHP9Bm",
        "outputId": "c8357e58-5a1f-4ba2-bcbf-749b85f74577"
      },
      "execution_count": null,
      "outputs": [
        {
          "output_type": "execute_result",
          "data": {
            "text/plain": [
              "array([([0., 0., 0.], [[0., 0., 0.], [0., 0., 0.], [0., 0., 0.]], [0]),\n",
              "       ([0., 0., 0.], [[0., 0., 0.], [0., 0., 0.], [0., 0., 0.]], [0]),\n",
              "       ([0., 0., 0.], [[0., 0., 0.], [0., 0., 0.], [0., 0., 0.]], [0]),\n",
              "       ([0., 0., 0.], [[0., 0., 0.], [0., 0., 0.], [0., 0., 0.]], [0])],\n",
              "      dtype=[('normals', '<f4', (3,)), ('vectors', '<f4', (3, 3)), ('attr', '<u2', (1,))])"
            ]
          },
          "metadata": {},
          "execution_count": 23
        }
      ]
    },
    {
      "cell_type": "code",
      "source": [
        "dat2.shape"
      ],
      "metadata": {
        "colab": {
          "base_uri": "https://localhost:8080/"
        },
        "id": "IHM-PVN4QBVL",
        "outputId": "28bc0287-a916-40e1-aabb-3bee0a388258"
      },
      "execution_count": null,
      "outputs": [
        {
          "output_type": "execute_result",
          "data": {
            "text/plain": [
              "(4,)"
            ]
          },
          "metadata": {},
          "execution_count": 25
        }
      ]
    },
    {
      "cell_type": "markdown",
      "source": [
        "# Triangled mesh\n",
        "\n",
        "Right-hand rule"
      ],
      "metadata": {
        "id": "0SuY_qhuQzc1"
      }
    },
    {
      "cell_type": "code",
      "source": [
        "dat2[0] = ([1., 1., 1.], [[1., 0., 0.], [0., 1., 0.], [0., 0., 1.]], [0])"
      ],
      "metadata": {
        "id": "adr_yAl7QEsT"
      },
      "execution_count": null,
      "outputs": []
    },
    {
      "cell_type": "code",
      "source": [
        "dat2[1] = ([-1., 1., 1.], [[-1., 0., 0.], [0., 0, 1], [0., 1, 0]], [0])"
      ],
      "metadata": {
        "id": "0urFZwffQTi0"
      },
      "execution_count": null,
      "outputs": []
    },
    {
      "cell_type": "code",
      "source": [
        "dat2[2] = ([0., 0, -1], [[-1., 0., 0.], [1., 0, 0.], [0., 0, 1]], [0])"
      ],
      "metadata": {
        "id": "IHEZ3vB0Qebl"
      },
      "execution_count": null,
      "outputs": []
    },
    {
      "cell_type": "code",
      "source": [],
      "metadata": {
        "id": "yPsGDSrqRFuG"
      },
      "execution_count": null,
      "outputs": []
    },
    {
      "cell_type": "code",
      "source": [
        "dat2"
      ],
      "metadata": {
        "colab": {
          "base_uri": "https://localhost:8080/"
        },
        "id": "tetrlPR0QRYP",
        "outputId": "352c86eb-49d8-43ef-d6e4-df6b4ffa84c5"
      },
      "execution_count": null,
      "outputs": [
        {
          "output_type": "execute_result",
          "data": {
            "text/plain": [
              "array([([ 1.,  1.,  1.], [[ 1.,  0.,  0.], [ 0.,  1.,  0.], [ 0.,  0.,  1.]], [0]),\n",
              "       ([-1.,  1.,  1.], [[-1.,  0.,  0.], [ 0.,  0.,  1.], [ 0.,  1.,  0.]], [0]),\n",
              "       ([ 0.,  0., -1.], [[-1.,  0.,  0.], [ 1.,  0.,  0.], [ 0.,  0.,  1.]], [0]),\n",
              "       ([ 0.,  0.,  0.], [[ 0.,  0.,  0.], [ 0.,  0.,  0.], [ 0.,  0.,  0.]], [0])],\n",
              "      dtype=[('normals', '<f4', (3,)), ('vectors', '<f4', (3, 3)), ('attr', '<u2', (1,))])"
            ]
          },
          "metadata": {},
          "execution_count": 42
        }
      ]
    },
    {
      "cell_type": "code",
      "source": [
        "my_mesh = mesh.Mesh(dat2, remove_empty_areas=False)"
      ],
      "metadata": {
        "id": "aJ8YQFPTO0I8"
      },
      "execution_count": null,
      "outputs": []
    },
    {
      "cell_type": "code",
      "source": [
        "my_mesh.normals"
      ],
      "metadata": {
        "colab": {
          "base_uri": "https://localhost:8080/"
        },
        "id": "KIvC4MBQO8Ls",
        "outputId": "4feeefa1-31d9-4c86-8051-8ef487f13105"
      },
      "execution_count": null,
      "outputs": [
        {
          "output_type": "execute_result",
          "data": {
            "text/plain": [
              "array([[ 1.,  1.,  1.],\n",
              "       [-1.,  1.,  1.],\n",
              "       [ 0., -2.,  0.],\n",
              "       [ 0.,  0.,  0.]], dtype=float32)"
            ]
          },
          "metadata": {},
          "execution_count": 44
        }
      ]
    },
    {
      "cell_type": "code",
      "source": [
        "my_mesh.v0"
      ],
      "metadata": {
        "colab": {
          "base_uri": "https://localhost:8080/"
        },
        "id": "bZxRSjWdO8C3",
        "outputId": "5b61d7ce-d058-48e8-fd54-369c602f6163"
      },
      "execution_count": null,
      "outputs": [
        {
          "output_type": "execute_result",
          "data": {
            "text/plain": [
              "array([[ 1.,  0.,  0.],\n",
              "       [-1.,  0.,  0.],\n",
              "       [-1.,  0.,  0.],\n",
              "       [ 0.,  0.,  0.]], dtype=float32)"
            ]
          },
          "metadata": {},
          "execution_count": 45
        }
      ]
    },
    {
      "cell_type": "code",
      "source": [
        "my_mesh.v1"
      ],
      "metadata": {
        "colab": {
          "base_uri": "https://localhost:8080/"
        },
        "id": "04S0VKV-PbQ5",
        "outputId": "118ce43b-75bb-42bb-d0f1-e3af08dcc20c"
      },
      "execution_count": null,
      "outputs": [
        {
          "output_type": "execute_result",
          "data": {
            "text/plain": [
              "array([[0., 1., 0.],\n",
              "       [0., 0., 1.],\n",
              "       [1., 0., 0.],\n",
              "       [0., 0., 0.]], dtype=float32)"
            ]
          },
          "metadata": {},
          "execution_count": 46
        }
      ]
    },
    {
      "cell_type": "code",
      "source": [
        "my_mesh.v2"
      ],
      "metadata": {
        "colab": {
          "base_uri": "https://localhost:8080/"
        },
        "id": "2tOTuveCPfFY",
        "outputId": "46187f14-b8b2-41a2-f18c-e9511556dfba"
      },
      "execution_count": null,
      "outputs": [
        {
          "output_type": "execute_result",
          "data": {
            "text/plain": [
              "array([[0., 0., 1.],\n",
              "       [0., 1., 0.],\n",
              "       [0., 0., 1.],\n",
              "       [0., 0., 0.]], dtype=float32)"
            ]
          },
          "metadata": {},
          "execution_count": 47
        }
      ]
    },
    {
      "cell_type": "code",
      "source": [
        "from stl import mesh\n",
        "from mpl_toolkits import mplot3d\n",
        "from matplotlib import pyplot\n",
        "\n",
        "# Create a new plot\n",
        "figure = pyplot.figure()\n",
        "axes = figure.add_subplot(projection='3d')\n",
        "\n",
        "# Load the STL files and add the vectors to the plot\n",
        "# your_mesh = mesh.Mesh.from_file('tests/stl_binary/HalfDonut.stl')\n",
        "axes.add_collection3d(mplot3d.art3d.Poly3DCollection(my_mesh.vectors))\n",
        "\n",
        "# Auto scale to the mesh size\n",
        "# scale = your_mesh.points.flatten()\n",
        "# axes.auto_scale_xyz(scale, scale, scale)\n",
        "\n",
        "# Show the plot to the screen\n",
        "pyplot.show()"
      ],
      "metadata": {
        "colab": {
          "base_uri": "https://localhost:8080/",
          "height": 260
        },
        "id": "btDLT_jxO7aj",
        "outputId": "cca60acd-0f9c-482f-80b5-17f4090167d7"
      },
      "execution_count": null,
      "outputs": [
        {
          "output_type": "display_data",
          "data": {
            "text/plain": [
              "<Figure size 432x288 with 1 Axes>"
            ],
            "image/png": "[encoded data removed]"
          },
          "metadata": {
            "needs_background": "light"
          }
        }
      ]
    }
  ]
}